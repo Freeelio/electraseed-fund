{
 "cells": [
  {
   "cell_type": "markdown",
   "metadata": {},
   "source": [
    "# Electraseed Fund Model as Fractal Finance - v2: Benoit"
   ]
  },
  {
   "cell_type": "markdown",
   "metadata": {},
   "source": [
    "### Agents \n",
    "\n",
    "Agents are represented by their respective model. Agents and their behavior models are pluggable for future version of generic Fractal Finance model.\n",
    "\n",
    ">* Agents behavior functions P(⋅)can be encoded with Heuristic strategies derived from game theoretic, psychological decision sciences and/or behavioral economics literature.\n",
    ">* Agents behavior functions P(⋅) can be machine learned from past data where the feature space is some characterization of the agent and system states, and the labels are the actions u taken.\n",
    ">* Agents can also have inherently adaptive strategies by encoding them as reinforcement learning agents who will learn to do whatever they can to achieve their goals within the bounds of the action space U. In this case, P(⋅) is itself time varying. \n",
    "\n",
    "_from [cadCAD community](https://community.cadcad.org/t/on-modeling-agents-in-dynamic-systems/23)_\n",
    "\n",
    "\n",
    "**energyUser**\n",
    "Customer of the asset operator. Typically consumes electricity service. Can become a prosumer, depending on the energy asset capabilities. Consumption/prosumption behavior and payment behaviour directly influences, cashflow of asset operator, returns on investment both environmental and financial, as well as economic and social to some degree.\n",
    "\n",
    "**energyAsset**\n",
    "Solar smart microgrids including storage, or solar parks with local power purchase agreements (i.e. virtual microgrids, in which the local/regional users may have, or may be equipped with storage), or multi-party housing with a solar rooftop and storage. Its geographical location, e.g. solar radiation, influences yield and performance of other asset components. Yield is also influenced by usage patterns and operation & maintenance patterns.\n",
    "\n",
    "**assetOperator**\n",
    "Maintains and operates the energy asset. Receives payments from energy users of the energy asset. Good maintenance and operation directly affects the yield of the energy asset, hence revenue. The cost of maintenance and operation directly affects the profits. Geopolitical circumstances, e.g. amount of taxes and levies or subsidies, influence the profits.\n",
    "\n",
    "**peerFunder**\n",
    "Has conviction which is already partially expressed by chosing to invest through Electraseed Fund: prefers as much of available investment to go to projects in developing regions due to increased social, economic (in the communities with clean energy access though this investment) and environmental impact. Risk apetite and financial return expactations vary from high-low (donor, sponsor, family office with reinvestment scheme) to low-low (crowdinvestors, families \"putting money aside for later\"). \n",
    "\n"
   ]
  },
  {
   "cell_type": "markdown",
   "metadata": {},
   "source": [
    "### State Variables\n",
    "\n",
    ">A state variable is one of the set of variables that are used to describe the mathematical \"state\" of a dynamical system. Intuitively, the state of a system describes enough about the system to determine its future behaviour in the absence of any external forces affecting the system. \n",
    "\n",
    "_from [Wikipedia](https://en.wikipedia.org/wiki/State_variable)_\n",
    "\n",
    "Note: the state equations and output equations for a linear time invariant system can be expressed using coefficient matrices, as shown in simple financial [model of issuing loans in v1 \"Anchor\"](energyFinancialModel_v1_Anchor.ipynb). We did the simple, traditional model of loans only as a comparison to the dynamic model, this v3 \"Benoit\" to show the [ergodicity problem](https://www.nature.com/articles/s41567-019-0732-0) of simple loan models.\n",
    "\n"
   ]
  },
  {
   "cell_type": "markdown",
   "metadata": {},
   "source": [
    "In this dynamic, __hybrid (system and agent dynamics) model__, agent behaviors will be described as policy functions, each creating a signal that will be input into state update functions, which describe the system dynamics."
   ]
  },
  {
   "cell_type": "markdown",
   "metadata": {},
   "source": [
    "In addition we have __two sub-systems__ that make up Electraseed Fund\n",
    "\n",
    "__1. energy agent model__, in which optimal use and operation of the energy asset create optimal outcome wrt value creation, i.e. revenues and social, environmental, economic impact; depending on geolocation, existing geo-political circumstances. This system includes energy user, asset operator, and the energy asset, with external drivers being geolocation related processes. The energy asset itself can be modelled as a subsystem, which we exclude initially in this v2.\n",
    "\n",
    "__2. financial agent model__, in which fair and sufficient capitalization of these projects affects value creation, i.e. revenues and positive impact, and that in turn determines fair capitalization, in a system that involves value aligned funders who care for the positive impact that their capital infusion creates. This system includes funders, with different intentions, project operators, and curators of impact.\n",
    "\n",
    "The impact is assessed according to [indicators defined in UN Sustainable Development Goal of \"Affordable and Clean Energy\" (SDG 7)](https://sdg-tracker.org/energy)\n",
    "\n",
    "Furthermore, since we create a __coupled tokenized system__ through an augmented [token bonding curve](https://discourse.sourcecred.io/t/bonding-curve-references/271), additional incentive schemes that will be implemented and A/B tested will have an effect on optimal use and operation as well as funding, i.e. agent bahavior.\n",
    "\n",
    "__3. tokenized system model__ consists of Funding Pool, Liquidity Reserve, and Impact Record. Impact Record logs the derived impact indicators from energy usage data. Liquidity Reserve is increased by the revenue shares from project operators and/or their sponsors, e.g. municipalities, diaspora etc. or [sponsored burn](https://medium.com/@avsa/sponsored-burning-for-tcr-c0ab08eef9d4) by sponsors of SDG 7, e.g. international aid agencies, family offices, etc. When funders bond cash to mint tokens of Electraseed Fund, a portion of the funds go to Reserve and the other portion goes into the Funding Pool. \n",
    "\n",
    "_Note: How the Funding Pool releases funds to which projects is part of yet another sub-system we call __curation system__, a Token Curated Registry, to be modelled separately. In this version v2 \"Benoit\" we assume simple fund release coupled to revenue share and data logged into Impact Record. Hence, the curators are not yet modelled in this subsystem. The staking mechanism in the Funding Pool can be interpreted as a staging insurance. This system will be included in v3 \"Carmen\"_\n",
    "\n"
   ]
  },
  {
   "cell_type": "markdown",
   "metadata": {},
   "source": [
    "The following is a depiction of the ElectraSeed Fund system model overview:\n",
    "\n",
    "\n",
    "![Electraseed Fund model overview](ElectraseedFund_Model_v2_Benoit.png)"
   ]
  },
  {
   "cell_type": "markdown",
   "metadata": {},
   "source": [
    "With the above model system is described through __state variables__\n",
    "1. Lqiguidity Reserve\n",
    "2. Funding Pool\n",
    "3. Revenues\n",
    "4. Impact\n",
    "\n",
    "__Policies__\n",
    "1. Realized Impact (energyUser behavior, geolocation)\n",
    "2. Payment Rate (energyUser behavior, realized local economic impact)\n",
    "3. Revenue Share (assetOperator behavior, payment rate, exogeneous drivers)\n",
    "\n",
    "__Parameters__\n",
    "1. Reserve Ratio \n",
    "2. Funding Rate\n",
    "\n",
    "__Exogeneous drivers (geolocation, geopolitical)__\n",
    "1. Solar Radiation\n",
    "2. Tariff (incl. levies & taxes, or subsidies)\n",
    "3. Efficiency Rating of energyAsset"
   ]
  },
  {
   "cell_type": "markdown",
   "metadata": {},
   "source": [
    "### Assumptions and Questions\n",
    "\n",
    "__Some interesting assumptions__\n",
    "1. Payment default rates higher in developing regions; whereas economic impact of electricity access has a stabilizing effect over time \n",
    "2. Energy demand reversal by 2040 (increasing energy efficiency/saving investments in established markets)\n",
    "3. Operation & Maintenance costs roughly same in established (high labor costs) and emerging (high logistic costs) markets\n",
    "4. Tariffs per kWh are roughly the same in established and emerging markets, whereas absolute demand is stable in established markets in emerging markets its ramping up in short-term. In longer term see 2.\n",
    "\n",
    "With the model in place we can run simulations in cadCAD including [parameter sweep](https://github.com/dnllvrvz/cadCAD/blob/master/documentation/System_Model_Parameter_Sweep.md), and [run Monte Carlo simulations](https://github.com/BlockScience/cadCAD/blob/master/tutorials/robot-marbles-part-4/robot-marbles-part-4.ipynb) with varying types and numbers of smart microgrid operators, with different groups and numbers of energyUsers for each, as well as different groups of funders with different motivations, and [test diversification strategies](https://github.com/BlockScience/cadCAD/blob/master/tutorials/robot-marbles-part-6/robot-marbles-part-6.ipynb).\n",
    "\n",
    "The quantified model can be check with energy usage and payment data, and external data sources from the projects and their curators.\n",
    "\n",
    "_TODO next: quantify model and run simulations:_\n",
    "\n",
    "__How do we achieve \"More Impact, Less Risk\" ?__\n",
    "\n",
    "In order to reach Electraseed Funds optimization goal \"more impact, less risk\"\n",
    "\n",
    "1. what type of projects should be curated, how should the curation bounty be priced given the current state of Electraseed Fund? How should the staking be incentivized?\n",
    "\n",
    "2. what should be the vesting period for staked tokens in the Funding Pool? What should be the financing rate and milestones for projects in order to be sufficiently capitalized?\n",
    "\n",
    "3. What are the different outcomes for well-behaved agents? What happens under attack, e.g. impact spoofing, pump & dump, bribery for listing etc.\n",
    "\n",
    "4. What mechanisms are/can be put in place to prevent/counteract funder attacks?\n",
    "\n",
    "5. How can operators and users be incentivized?  _(Note: Most likely part of next model v3 \"Carmen\" or later)_"
   ]
  },
  {
   "cell_type": "code",
   "execution_count": null,
   "metadata": {},
   "outputs": [],
   "source": []
  }
 ],
 "metadata": {
  "kernelspec": {
   "display_name": "Python 3",
   "language": "python",
   "name": "python3"
  },
  "language_info": {
   "codemirror_mode": {
    "name": "ipython",
    "version": 3
   },
   "file_extension": ".py",
   "mimetype": "text/x-python",
   "name": "python",
   "nbconvert_exporter": "python",
   "pygments_lexer": "ipython3",
   "version": "3.6.8"
  }
 },
 "nbformat": 4,
 "nbformat_minor": 2
}
