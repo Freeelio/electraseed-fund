{
 "cells": [
  {
   "cell_type": "markdown",
   "metadata": {},
   "source": [
    "# Solartainer\n",
    "Reminder: the basic concepts of the cadCAD library:\n",
    "* State Variables\n",
    "* Timestep\n",
    "* State Update Functions\n",
    "* Partial State Update Blocks\n",
    "* Simulation Configuration Parameters\n",
    "* Policies\n",
    "\n",
    "__Model description__  \n",
    "* Here we model a solartainer that feeds a single consumer (either a single household or multiple households connected to the same knot).\n",
    "* The model consists of a consumer, battery, photovoltaic power station, and power grid. The power grid serves as backup, i.e., it is only employed if total demand is not met. Otherwise, power is drawn from the battery or photovoltaic station.\n",
    "\n"
   ]
  },
  {
   "cell_type": "code",
   "execution_count": 29,
   "metadata": {},
   "outputs": [],
   "source": [
    "%%capture\n",
    "import pandas as pd\n",
    "import math\n",
    "from numpy.random import rand\n",
    "from numpy import exp, arange, linspace\n",
    "\n",
    "cols = [1]\n",
    "# Get consumption\n",
    "cons = pd.read_excel('data/StromVerbraeuche.xlsx', index_col=1, usecols=1)\n",
    "\n",
    "# # # # # # # # # # # # # # # # # # # # # # # # # # # # # # # # # # # # # # # # # # # # # # # # \n",
    "# List of all the state variables in the system and their initial values\n",
    "initial_conditions = {\n",
    "    'SOC': 0.5, # initial state of charge of battery\n",
    "    'Pcons': 0, # consumption at t=0 is zero\n",
    "    'Pgrid': 0 # No power is drawn from the grid at t=0\n",
    "}\n",
    "# # # # # # # # # # # # # # # # # # # # # # # # # # # # # # # # # # # # # # # # # # # # # # # # \n",
    "\n",
    "delta_t = 1 # time discretization step length in seconds\n",
    "P_rated = 10 # rated battery power\n",
    "Cap_rated = 2 # rated battery capacity\n",
    "eff = 0.9 # battery efficiency\n",
    "\n",
    "\n",
    "# # # # # # # # # # # # # # # # # # # # # # # # # # # # # # # # # # # # # # # # # # # # # # # # \n",
    "# Settings of general simulation parameters, unrelated to the system itself\n",
    "# `T` is a range with the number of discrete units of time the simulation will run for;\n",
    "# `N` is the number of times the simulation will be run (Monte Carlo runs)\n",
    "simulation_parameters = {\n",
    "    'T': range(200),\n",
    "    'N': 1, # We'll run the same simulation 50 times; the random events in each simulation are independent\n",
    "    'M': {}\n",
    "}\n",
    "# # # # # # # # # # # # # # # # # # # # # # # # # # # # # # # # # # # # # # # # # # # # # # # # \n",
    "\n",
    "# # # # # # # # # # # # # # # # # # # # # # # # # # # # # # # # # # # # # # # # # # # # # # # # \n",
    "# We specify the battery's logic in a Policy Function\n",
    "    \n",
    "def charge_battery(params, step, sL, s):\n",
    "\n",
    "    # Reformat vector of consumer demand per time step\n",
    "    Pcon = cons.as_matrix();\n",
    "    \n",
    "    # Compute total consumption and available power\n",
    "    # Solar power\n",
    "    Psolar = 0.5*math.exp( -(0.01*(s['timestep']-108))**2 );\n",
    "    # Consumer demand\n",
    "    P_consumption = Pcon[s['timestep']][0]/2;\n",
    "    # Total available power after demand has been met\n",
    "    Ptot = P_consumption - Psolar; #-Pcon(s['timestep']);\n",
    "    E_Batt_diff = - Ptot*delta_t\n",
    "    P_grid = 0\n",
    "    \n",
    "    \n",
    "    # Compute charge\n",
    "    if (- Ptot <= P_rated and s['SOC'] <= 1 and - Ptot >= -P_rated and s['SOC'] >= 0):\n",
    "        E_Batt_diff = max(min(- Ptot*delta_t*delta_t,P_rated*delta_t),-P_rated*delta_t)\n",
    "    elif (- Ptot*delta_t > P_rated*delta_t and s['SOC'] < 1):\n",
    "        E_Batt_diff = P_rated*delta_t\n",
    "    elif (- Ptot*delta_t < -P_rated*delta_t and s['SOC'] > 0) :\n",
    "        E_Batt_diff = - P_rated*delta_t\n",
    "    else :\n",
    "        E_Batt_diff = 0 # max(min(E_Batt_diff*delta_t,P_rated*delta_t),-P_rated*delta_t)\n",
    "         \n",
    "    E_Batt_diff = max(min(- Ptot*delta_t*delta_t,P_rated*delta_t),-P_rated*delta_t)\n",
    "    # Charge cannot lead to SOC being larger than 1 or smaller than 0\n",
    "    if s['SOC'] + E_Batt_diff > 1:\n",
    "        E_Batt_diff = 1- s['SOC']\n",
    "    elif s['SOC'] + E_Batt_diff < 0:\n",
    "        E_Batt_diff = -s['SOC']\n",
    "        \n",
    "    # Compute electricity drawn from the grid\n",
    "    P_grid = Ptot - E_Batt_diff\n",
    "    return({'E_Batt_diff': E_Batt_diff, 'P_consumption': P_consumption, 'P_grid': P_grid})\n",
    "    \n",
    "\n",
    "    \n",
    "# # # # # # # # # # # # # # # # # # # # # # # # # # # # # # # # # # # # # # # # # # # # # # # # \n",
    "# State update functions\n",
    "def charge(params, step, sL, s, _input):\n",
    "    y = 'SOC'\n",
    "    x = s['SOC'] + _input['E_Batt_diff']\n",
    "    return (y, x)\n",
    "\n",
    "def get_consumption(params, step, sL, s, _input):\n",
    "    y = 'Pcons'\n",
    "    x = _input['P_consumption']\n",
    "    return (y, x)\n",
    "\n",
    "def get_grid_input(params, step, sL, s, _input):\n",
    "    y = 'Pgrid'\n",
    "    x = _input['P_grid']\n",
    "    return (y, x)\n",
    "\n",
    "\n",
    "# # # # # # # # # # # # # # # # # # # # # # # # # # # # # # # # # # # # # # # # # # # # # # # # \n",
    "\n",
    "\n",
    "\n",
    "# # # # # # # # # # # # # # # # # # # # # # # # # # # # # # # # # # # # # # # # # # # # # # # # \n",
    "# In the Partial State Update Blocks, \n",
    "# the user specifies if state update functions will be run in series or in parallel\n",
    "# and the policy functions that will be evaluated in that block\n",
    "partial_state_update_blocks = [\n",
    "    { \n",
    "        'policies': { # The following policy functions will be evaluated and their returns will be passed to the state update functions\n",
    "            'charge_battery': charge_battery,\n",
    "            #'charge_battery_2': charge_battery_2\n",
    "        },\n",
    "        'variables': { # The following state variables will be updated simultaneously\n",
    "            'SOC': charge,\n",
    "            'Pcons': get_consumption,\n",
    "            'Pgrid':get_grid_input\n",
    "        }\n",
    "    }\n",
    "]\n",
    "# # # # # # # # # # # # # # # # # # # # # # # # # # # # # # # # # # # # # # # # # # # # # # # # "
   ]
  },
  {
   "cell_type": "code",
   "execution_count": 30,
   "metadata": {},
   "outputs": [],
   "source": [
    "%%capture\n",
    "from cadCAD.configuration import Configuration\n",
    "# # # # # # # # # # # # # # # # # # # # # # # # # # # # # # # # # # # # # # # # # # # # # # # # \n",
    "# The configurations above are packaged into a `Configuration` object\n",
    "config = Configuration(initial_state=initial_conditions, #dict containing variable names and initial values\n",
    "                       partial_state_update_blocks=partial_state_update_blocks, #dict containing state update functions\n",
    "                       sim_config=simulation_parameters #dict containing simulation parameters\n",
    "                      )\n",
    "\n",
    "from cadCAD.engine import ExecutionMode, ExecutionContext, Executor\n",
    "exec_mode = ExecutionMode()\n",
    "exec_context = ExecutionContext(exec_mode.single_proc)\n",
    "executor = Executor(exec_context, [config]) # Pass the configuration object inside an array\n",
    "raw_result, tensor = executor.execute() # The `execute()` method returns a tuple; its first elements contains the raw results\n",
    "\n",
    "%matplotlib inline\n",
    "df = pd.DataFrame(raw_result)"
   ]
  },
  {
   "cell_type": "code",
   "execution_count": 31,
   "metadata": {
    "scrolled": true
   },
   "outputs": [
    {
     "data": {
      "text/html": [
       "<div>\n",
       "<style scoped>\n",
       "    .dataframe tbody tr th:only-of-type {\n",
       "        vertical-align: middle;\n",
       "    }\n",
       "\n",
       "    .dataframe tbody tr th {\n",
       "        vertical-align: top;\n",
       "    }\n",
       "\n",
       "    .dataframe thead th {\n",
       "        text-align: right;\n",
       "    }\n",
       "</style>\n",
       "<table border=\"1\" class=\"dataframe\">\n",
       "  <thead>\n",
       "    <tr style=\"text-align: right;\">\n",
       "      <th></th>\n",
       "      <th></th>\n",
       "      <th></th>\n",
       "      <th>SOC</th>\n",
       "      <th>Pcons</th>\n",
       "      <th>Pgrid</th>\n",
       "    </tr>\n",
       "    <tr>\n",
       "      <th>run</th>\n",
       "      <th>timestep</th>\n",
       "      <th>substep</th>\n",
       "      <th></th>\n",
       "      <th></th>\n",
       "      <th></th>\n",
       "    </tr>\n",
       "  </thead>\n",
       "  <tbody>\n",
       "    <tr>\n",
       "      <td rowspan=\"11\" valign=\"top\">1</td>\n",
       "      <td>0</td>\n",
       "      <td>0</td>\n",
       "      <td>0.500000</td>\n",
       "      <td>0.00</td>\n",
       "      <td>0.000000</td>\n",
       "    </tr>\n",
       "    <tr>\n",
       "      <td>1</td>\n",
       "      <td>1</td>\n",
       "      <td>0.515743</td>\n",
       "      <td>0.14</td>\n",
       "      <td>-0.031486</td>\n",
       "    </tr>\n",
       "    <tr>\n",
       "      <td>2</td>\n",
       "      <td>1</td>\n",
       "      <td>0.534871</td>\n",
       "      <td>0.14</td>\n",
       "      <td>-0.038255</td>\n",
       "    </tr>\n",
       "    <tr>\n",
       "      <td>3</td>\n",
       "      <td>1</td>\n",
       "      <td>0.567424</td>\n",
       "      <td>0.13</td>\n",
       "      <td>-0.065107</td>\n",
       "    </tr>\n",
       "    <tr>\n",
       "      <td>4</td>\n",
       "      <td>1</td>\n",
       "      <td>0.543445</td>\n",
       "      <td>0.19</td>\n",
       "      <td>0.047960</td>\n",
       "    </tr>\n",
       "    <tr>\n",
       "      <td>...</td>\n",
       "      <td>...</td>\n",
       "      <td>...</td>\n",
       "      <td>...</td>\n",
       "      <td>...</td>\n",
       "    </tr>\n",
       "    <tr>\n",
       "      <td>196</td>\n",
       "      <td>1</td>\n",
       "      <td>1.000000</td>\n",
       "      <td>0.21</td>\n",
       "      <td>-0.024559</td>\n",
       "    </tr>\n",
       "    <tr>\n",
       "      <td>197</td>\n",
       "      <td>1</td>\n",
       "      <td>0.990490</td>\n",
       "      <td>0.24</td>\n",
       "      <td>0.019020</td>\n",
       "    </tr>\n",
       "    <tr>\n",
       "      <td>198</td>\n",
       "      <td>1</td>\n",
       "      <td>0.886936</td>\n",
       "      <td>0.33</td>\n",
       "      <td>0.207107</td>\n",
       "    </tr>\n",
       "    <tr>\n",
       "      <td>199</td>\n",
       "      <td>1</td>\n",
       "      <td>0.719366</td>\n",
       "      <td>0.39</td>\n",
       "      <td>0.335141</td>\n",
       "    </tr>\n",
       "    <tr>\n",
       "      <td>200</td>\n",
       "      <td>1</td>\n",
       "      <td>0.587805</td>\n",
       "      <td>0.35</td>\n",
       "      <td>0.263122</td>\n",
       "    </tr>\n",
       "  </tbody>\n",
       "</table>\n",
       "<p>201 rows × 3 columns</p>\n",
       "</div>"
      ],
      "text/plain": [
       "                           SOC  Pcons     Pgrid\n",
       "run timestep substep                           \n",
       "1   0        0        0.500000   0.00  0.000000\n",
       "    1        1        0.515743   0.14 -0.031486\n",
       "    2        1        0.534871   0.14 -0.038255\n",
       "    3        1        0.567424   0.13 -0.065107\n",
       "    4        1        0.543445   0.19  0.047960\n",
       "...                        ...    ...       ...\n",
       "    196      1        1.000000   0.21 -0.024559\n",
       "    197      1        0.990490   0.24  0.019020\n",
       "    198      1        0.886936   0.33  0.207107\n",
       "    199      1        0.719366   0.39  0.335141\n",
       "    200      1        0.587805   0.35  0.263122\n",
       "\n",
       "[201 rows x 3 columns]"
      ]
     },
     "metadata": {},
     "output_type": "display_data"
    }
   ],
   "source": [
    "from IPython.display import display\n",
    "tmp_rows = pd.options.display.max_rows\n",
    "pd.options.display.max_rows = 10\n",
    "display(df.set_index(['run', 'timestep', 'substep']))\n",
    "pd.options.display.max_rows = tmp_rows"
   ]
  },
  {
   "cell_type": "code",
   "execution_count": 32,
   "metadata": {
    "scrolled": false
   },
   "outputs": [
    {
     "data": {
      "image/png": "[encoded data removed]",
      "text/plain": [
       "<Figure size 432x288 with 1 Axes>"
      ]
     },
     "metadata": {
      "needs_background": "light"
     },
     "output_type": "display_data"
    }
   ],
   "source": [
    "ax = None\n",
    "for i in range(simulation_parameters['N']):\n",
    "    ts = df['timestep'].drop_duplicates()\n",
    "    a = arange(len(ts))\n",
    "    ts = ts[(a % 20 == 0)]\n",
    "    ax = df[df['run']==i+1].plot('timestep', ['SOC', 'Pcons'],\n",
    "                                     grid=True,\n",
    "                                     xticks=list(ts), \n",
    "                                     yticks=list(linspace(0,math.ceil(max(df['SOC'].max(),1*df['Pcons'].max())),11)),\n",
    "                                     legend = (ax == None),\n",
    "                                     colormap = 'RdYlGn',\n",
    "                                     ax = ax\n",
    "                                  )"
   ]
  },
  {
   "cell_type": "markdown",
   "metadata": {},
   "source": [
    "## Mini Monte Carlo simulation (just two runs)\n",
    "We simulate two different versions of the same system. To this end, we create two `Configuration` objects to pass to the `Executor` instead of just one."
   ]
  },
  {
   "cell_type": "code",
   "execution_count": 33,
   "metadata": {},
   "outputs": [],
   "source": [
    "initial_conditions_1 = {\n",
    "    'SOC': 0.99, \n",
    "    'Pcons': 0 ,\n",
    "    'Pgrid':0\n",
    "}\n",
    "\n",
    "initial_conditions_2 = {\n",
    "    'SOC': 0.3, \n",
    "    'Pcons': 0,\n",
    "    'Pgrid':0\n",
    "}"
   ]
  },
  {
   "cell_type": "markdown",
   "metadata": {},
   "source": [
    "Just like we did before, we package those initial conditions along with the partial state update blocks and the simulation parameters into `Configuration` objects"
   ]
  },
  {
   "cell_type": "code",
   "execution_count": 34,
   "metadata": {},
   "outputs": [],
   "source": [
    "# # # # # # # # # # # # # # # # # # # # # # # # # # # # # # # # # # # # # # # # # # # # # # # # \n",
    "# The configurations above are then packaged into a `Configuration` object\n",
    "config_1 = Configuration(initial_state=initial_conditions_1, #dict containing variable names and initial values\n",
    "                        partial_state_update_blocks=partial_state_update_blocks, #dict containing state update functions\n",
    "                        sim_config=simulation_parameters #dict containing simulation parameters\n",
    "                       )\n",
    "\n",
    "# # # # # # # # # # # # # # # # # # # # # # # # # # # # # # # # # # # # # # # # # # # # # # # # \n",
    "# The configurations above are then packaged into a `Configuration` object\n",
    "config_2 = Configuration(initial_state=initial_conditions_2, #dict containing variable names and initial values\n",
    "                        partial_state_update_blocks=partial_state_update_blocks, #dict containing state update functions\n",
    "                        sim_config=simulation_parameters #dict containing simulation parameters\n",
    "                       )"
   ]
  },
  {
   "cell_type": "markdown",
   "metadata": {},
   "source": [
    "And now we can execute the simulation of those two different versions of the system in parallel. In order to accomplish that, we use an `ExecutionContext` of mode `multi_proc`"
   ]
  },
  {
   "cell_type": "code",
   "execution_count": 35,
   "metadata": {},
   "outputs": [],
   "source": [
    "exec_mode = ExecutionMode()\n",
    "exec_context = ExecutionContext(exec_mode.multi_proc) # For Monte Carlo sim. we use multi_proc instead of single_proc\n",
    "executor = Executor(exec_context, [config_1, config_2]) # Pass the configuration objects inside an array"
   ]
  },
  {
   "cell_type": "markdown",
   "metadata": {},
   "source": [
    "And we are ready to execute the simulation. The `execute()` method will return a list of tuples - the first element of those tuples correspond to the datapoints of each one of the versions of the system being simulated."
   ]
  },
  {
   "cell_type": "code",
   "execution_count": 36,
   "metadata": {},
   "outputs": [],
   "source": [
    "%%capture\n",
    "results = []\n",
    "for raw_result, tensor in executor.execute():\n",
    "    df = pd.DataFrame(raw_result)\n",
    "    results.append(df)"
   ]
  },
  {
   "cell_type": "code",
   "execution_count": 37,
   "metadata": {
    "scrolled": true
   },
   "outputs": [
    {
     "data": {
      "image/png": "[encoded data removed]",
      "text/plain": [
       "<Figure size 432x288 with 1 Axes>"
      ]
     },
     "metadata": {
      "needs_background": "light"
     },
     "output_type": "display_data"
    },
    {
     "data": {
      "image/png": "[encoded data removed]",
      "text/plain": [
       "<Figure size 432x288 with 1 Axes>"
      ]
     },
     "metadata": {
      "needs_background": "light"
     },
     "output_type": "display_data"
    }
   ],
   "source": [
    "for df in results:\n",
    "    ax = None\n",
    "    for i in range(simulation_parameters['N']):\n",
    "        ax = df[df['run']==i+1].plot('timestep', ['SOC', 'Pcons'],\n",
    "                                     grid=True,\n",
    "                                     xticks=list(ts), \n",
    "                                     yticks=list(linspace(0,math.ceil(max(df['SOC'].max(),1*df['Pcons'].max())),11)),\n",
    "                                     legend = (ax == None),\n",
    "                                     colormap = 'RdYlGn',\n",
    "                                     ax = ax\n",
    "                                  )"
   ]
  },
  {
   "cell_type": "markdown",
   "metadata": {},
   "source": [
    "The same thing can be done for any sort of variation in the system being modeled: wheter it's the inclusion of a new state update function, a change in the order in which partial state update blocks get executed, or completely different policy and state update functions, all we need to do is create a different `Configuration` object for each one of the variations and pass those to the `Executor`."
   ]
  },
  {
   "cell_type": "code",
   "execution_count": null,
   "metadata": {},
   "outputs": [],
   "source": []
  },
  {
   "cell_type": "code",
   "execution_count": null,
   "metadata": {},
   "outputs": [],
   "source": []
  },
  {
   "cell_type": "code",
   "execution_count": null,
   "metadata": {},
   "outputs": [],
   "source": []
  }
 ],
 "metadata": {
  "kernelspec": {
   "display_name": "Python 3",
   "language": "python",
   "name": "python3"
  },
  "language_info": {
   "codemirror_mode": {
    "name": "ipython",
    "version": 3
   },
   "file_extension": ".py",
   "mimetype": "text/x-python",
   "name": "python",
   "nbconvert_exporter": "python",
   "pygments_lexer": "ipython3",
   "version": "3.7.4"
  }
 },
 "nbformat": 4,
 "nbformat_minor": 2
}
